{
 "cells": [
  {
   "cell_type": "markdown",
   "metadata": {},
   "source": [
    "### Q2.1"
   ]
  },
  {
   "cell_type": "code",
   "execution_count": 47,
   "metadata": {
    "collapsed": true
   },
   "outputs": [],
   "source": [
    "import numpy as np\n",
    "from sklearn import datasets\n",
    "iris = datasets.load_iris()\n",
    "iris_X = iris.data\n",
    "iris_y = iris.target\n",
    "np.unique(iris_y)\n",
    "np.random.seed(0)\n",
    "indices = np.random.permutation(len(iris_X))\n",
    "iris_X_train = iris_X[indices[:-10]]\n",
    "iris_y_train = iris_y[indices[:-10]]\n",
    "iris_X_test = iris_X[indices[-10:]]\n",
    "iris_y_test = iris_y[indices[-10:]]"
   ]
  },
  {
   "cell_type": "code",
   "execution_count": 48,
   "metadata": {},
   "outputs": [
    {
     "name": "stdout",
     "output_type": "stream",
     "text": [
      "0.9\n"
     ]
    }
   ],
   "source": [
    "from sklearn.metrics import accuracy_score\n",
    "from sklearn.ensemble import RandomForestClassifier\n",
    "\n",
    "clfRF = RandomForestClassifier(max_depth=2, random_state=0)\n",
    "clfRF.fit(iris_X_train, iris_y_train)\n",
    "acc_temps = accuracy_score(iris_y_test, clfRF.predict(iris_X_test))\n",
    "print(acc_temps)"
   ]
  },
  {
   "cell_type": "code",
   "execution_count": 49,
   "metadata": {},
   "outputs": [
    {
     "name": "stdout",
     "output_type": "stream",
     "text": [
      "0.9\n"
     ]
    }
   ],
   "source": [
    "from sklearn import svm\n",
    "clfSVM = svm.SVC()\n",
    "clfSVM.fit(iris_X_train, iris_y_train)\n",
    "acc_temps = accuracy_score(iris_y_test, clfSVM.predict(iris_X_test))\n",
    "print(acc_temps)"
   ]
  },
  {
   "cell_type": "markdown",
   "metadata": {},
   "source": [
    "### Q2.2"
   ]
  },
  {
   "cell_type": "code",
   "execution_count": 50,
   "metadata": {},
   "outputs": [
    {
     "name": "stdout",
     "output_type": "stream",
     "text": [
      "[ 0.93333333  0.96666667  0.9         0.86666667  1.        ]\n"
     ]
    }
   ],
   "source": [
    "from sklearn.model_selection import cross_val_score\n",
    "from sklearn.ensemble import RandomForestClassifier\n",
    "\n",
    "clfRF = RandomForestClassifier(max_depth=2, random_state=0)\n",
    "acc_cvRF = cross_val_score(clfRF, iris_X, iris_y, cv=5)\n",
    "print(acc_cvRF)"
   ]
  },
  {
   "cell_type": "code",
   "execution_count": 51,
   "metadata": {},
   "outputs": [
    {
     "name": "stdout",
     "output_type": "stream",
     "text": [
      "[ 0.96666667  1.          0.96666667  0.96666667  1.        ]\n"
     ]
    }
   ],
   "source": [
    "from sklearn.model_selection import cross_val_score\n",
    "from sklearn import svm\n",
    "\n",
    "clfSVM = svm.SVC()\n",
    "acc_cvSVM = cross_val_score(clfSVM, iris_X, iris_y, cv=5)\n",
    "print(acc_cvSVM)"
   ]
  },
  {
   "cell_type": "code",
   "execution_count": 52,
   "metadata": {},
   "outputs": [
    {
     "name": "stdout",
     "output_type": "stream",
     "text": [
      "[ 0.96666667  1.          0.93333333  0.96666667  1.        ]\n"
     ]
    }
   ],
   "source": [
    "from sklearn.model_selection import cross_val_score\n",
    "from sklearn.neighbors import KNeighborsClassifier\n",
    "\n",
    "clfKNN = KNeighborsClassifier()\n",
    "acc_cvKNN = cross_val_score(clfKNN,iris_X,iris_y, cv=5)\n",
    "print(acc_cvKNN)"
   ]
  },
  {
   "cell_type": "markdown",
   "metadata": {},
   "source": [
    "### Q2.3"
   ]
  },
  {
   "cell_type": "code",
   "execution_count": 53,
   "metadata": {},
   "outputs": [
    {
     "name": "stdout",
     "output_type": "stream",
     "text": [
      "The Mean values and Standard Diviation are as following:\n",
      "RandomForestClassifier： \n",
      "\tAvg: 0.933333333333 SD: 0.0471404520791\n",
      "SVMClassifier： \n",
      "\tAvg: 0.98 SD: 0.0163299316186\n",
      "KNNClassifier： \n",
      "\tAvg: 0.973333333333 SD: 0.0249443825785\n"
     ]
    }
   ],
   "source": [
    "import numpy as np\n",
    "\n",
    "def compare3clf():\n",
    "    print(\"The Mean values and Standard Diviation are as following:\")\n",
    "    print(\"RandomForestClassifier： \"+\"\\n\\tAvg: \"+str(np.mean(acc_cvRF))+\" SD: \"+str(np.std(acc_cvRF)))\n",
    "    print(\"SVMClassifier： \"+\"\\n\\tAvg: \"+str(np.mean(acc_cvSVM))+\" SD: \"+str(np.std(acc_cvSVM)))\n",
    "    print(\"KNNClassifier： \"+\"\\n\\tAvg: \"+str(np.mean(acc_cvKNN))+\" SD: \"+str(np.std(acc_cvKNN)))\n",
    "compare3clf()"
   ]
  },
  {
   "cell_type": "markdown",
   "metadata": {},
   "source": [
    "###### The result indicate that SVM is the best classifier both in mean value and standard diviation when these 3 classifier parametres are as defaults\n"
   ]
  }
 ],
 "metadata": {
  "kernelspec": {
   "display_name": "Python 3",
   "language": "python",
   "name": "python3"
  },
  "language_info": {
   "codemirror_mode": {
    "name": "ipython",
    "version": 3
   },
   "file_extension": ".py",
   "mimetype": "text/x-python",
   "name": "python",
   "nbconvert_exporter": "python",
   "pygments_lexer": "ipython3",
   "version": "3.6.2"
  }
 },
 "nbformat": 4,
 "nbformat_minor": 2
}
